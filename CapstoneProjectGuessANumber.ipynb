{
  "nbformat": 4,
  "nbformat_minor": 0,
  "metadata": {
    "colab": {
      "provenance": []
    },
    "kernelspec": {
      "name": "python3",
      "display_name": "Python 3"
    }
  },
  "cells": [
    {
      "cell_type": "markdown",
      "metadata": {
        "id": "4b8jPMY49LJC"
      },
      "source": [
        "# Capstone Project 2: Guess A Number\n",
        "\n"
      ]
    },
    {
      "cell_type": "markdown",
      "metadata": {
        "id": "ShbieC4op8ZP"
      },
      "source": [
        "---"
      ]
    },
    {
      "cell_type": "markdown",
      "metadata": {
        "id": "2X0PWfZr0tzr"
      },
      "source": [
        "### Game Requirements\n",
        "\n",
        "To create this game, you have to:\n",
        "\n",
        "1. Create a function which converts a number into its binary notation.\n",
        "\n",
        "2. Create an empty python list to store 6 empty python lists which will act as 6 cards.\n",
        "\n",
        "3. Fill the 6 empty python lists which you created in the second step.\n",
        "\n",
        "4. Run the game till the computer has guessed the number that the player thought of.\n",
        "\n",
        "**Note:** You will require the following arithmetic operators for this project:\n",
        "\n",
        "1. The **floor division** operator denoted by double-slashes `//` to get a quotient without fractional parts.\n",
        "\n",
        "2. The **exponent** operator denoted by double-asterisk signs`**` to get a number raised to an exponent (or power or index).\n",
        "\n",
        "3. The **modulo** operator denoted by the percentage sign `%` to get the remainder when a dividend is divided by a divisor."
      ]
    },
    {
      "cell_type": "markdown",
      "metadata": {
        "id": "A6REQjDYrm7Q"
      },
      "source": [
        "---"
      ]
    },
    {
      "cell_type": "markdown",
      "metadata": {
        "id": "7g26AuJW-Opx"
      },
      "source": [
        "#### Step 1: Get The Binary Digits\n",
        "\n",
        "Create a function called `get_binary_digits()` which takes a number as input and converts it into its binary notation and stores the digits in a list.\n",
        "\n",
        "In this exercise, you may need a ready-made Python list function called `reverse()` which reverses the position of the items in the list, i.e., the first item becomes the last item and vice-versa, the second item becomes the second-last item and vice-versa and so on\n",
        "$\\dots$\n",
        "\n",
        "Look at the code shown below to see the usage of the `reverse()` function."
      ]
    },
    {
      "cell_type": "code",
      "metadata": {
        "id": "nIeSj5Oq2JMD",
        "colab": {
          "base_uri": "https://localhost:8080/",
          "height": 34
        },
        "outputId": "8144ae50-9b89-47df-f807-99748486cb47"
      },
      "source": [
        "# First create a list.\n",
        "my_list = [11, 2, 8, 27, 15]\n",
        "my_list"
      ],
      "execution_count": null,
      "outputs": [
        {
          "output_type": "execute_result",
          "data": {
            "text/plain": [
              "[11, 2, 8, 27, 15]"
            ]
          },
          "metadata": {
            "tags": []
          },
          "execution_count": 22
        }
      ]
    },
    {
      "cell_type": "code",
      "metadata": {
        "id": "1k3DjaQf2PSd"
      },
      "source": [
        "# Apply the 'reverse()' function.\n",
        "my_list.reverse()"
      ],
      "execution_count": null,
      "outputs": []
    },
    {
      "cell_type": "code",
      "metadata": {
        "id": "6tJ4xNt22cr0",
        "colab": {
          "base_uri": "https://localhost:8080/",
          "height": 34
        },
        "outputId": "4af97595-e0c2-4027-b279-ea344e715673"
      },
      "source": [
        "# Print the same list again.\n",
        "my_list"
      ],
      "execution_count": null,
      "outputs": [
        {
          "output_type": "execute_result",
          "data": {
            "text/plain": [
              "[15, 27, 8, 2, 11]"
            ]
          },
          "metadata": {
            "tags": []
          },
          "execution_count": 24
        }
      ]
    },
    {
      "cell_type": "code",
      "metadata": {
        "id": "TutOKVY2LwT8",
        "colab": {
          "base_uri": "https://localhost:8080/",
          "height": 34
        },
        "outputId": "04c957d7-8eb2-45ef-dd85-fdfc709af993"
      },
      "source": [
        "# Create the 'get_binary_function()'.\n",
        "def get_binary_digits(dividend):\n",
        "  binary_digits = []\n",
        "  while dividend != 0:\n",
        "    quot = dividend // 2\n",
        "    remainder = dividend % 2\n",
        "    binary_digits.append(remainder)\n",
        "    dividend = quot # The quotient becomes the new dividend.\n",
        "  binary_digits.reverse()\n",
        "  return binary_digits\n",
        "\n",
        "get_binary_digits(53)"
      ],
      "execution_count": null,
      "outputs": [
        {
          "output_type": "execute_result",
          "data": {
            "text/plain": [
              "[1, 1, 0, 1, 0, 1]"
            ]
          },
          "metadata": {
            "tags": []
          },
          "execution_count": 14
        }
      ]
    },
    {
      "cell_type": "markdown",
      "metadata": {
        "id": "A8Pbkoru892v"
      },
      "source": [
        "---"
      ]
    },
    {
      "cell_type": "markdown",
      "metadata": {
        "id": "n-J1-XVh-dtG"
      },
      "source": [
        "#### Step 2: Create Cards"
      ]
    },
    {
      "cell_type": "code",
      "metadata": {
        "id": "ou1YN9IaokG5",
        "colab": {
          "base_uri": "https://localhost:8080/",
          "height": 34
        },
        "outputId": "7f3e7575-0a38-420f-dc12-ea732ad1ea44"
      },
      "source": [
        "# Create an empty list called 'cards' containing 6 other empty lists.\n",
        "cards = [[] for i in range(6)]\n",
        "cards"
      ],
      "execution_count": null,
      "outputs": [
        {
          "output_type": "execute_result",
          "data": {
            "text/plain": [
              "[[], [], [], [], [], []]"
            ]
          },
          "metadata": {
            "tags": []
          },
          "execution_count": 15
        }
      ]
    },
    {
      "cell_type": "markdown",
      "metadata": {
        "id": "tZ73fkLY8_Vh"
      },
      "source": [
        "---"
      ]
    },
    {
      "cell_type": "markdown",
      "metadata": {
        "id": "IuwHxX7l-qa-"
      },
      "source": [
        "#### Step 3: Fill The Cards\n",
        "\n",
        "Now, apply the game logic in python to fill the `cards` list. Remember, the **first** number on the\n",
        "\n",
        "- first card is 1,\n",
        "\n",
        "- second card is 2,\n",
        "\n",
        "- third card is 4,\n",
        "\n",
        "- fourth card is 8,\n",
        "\n",
        "- fifth card is 16, and\n",
        "\n",
        "- sixth card is 32\n",
        "\n",
        "Also, the number\n",
        "$53$\n",
        "is expressed as\n",
        "$110101$\n",
        "in binary notation.  \n",
        "\n",
        "Therefore,\n",
        "\n",
        "$$53 = 1 \\times 2^5 + 1 \\times 2^4 + 0 \\times 2^3 + 1 \\times 2^2 + 0 \\times 2^1 + 1 \\times 2^0$$\n",
        "\n",
        "$$\\Rightarrow 53 = 32 + 16 + 0 + 4 + 0 + 1$$\n",
        "\n",
        "So, the number 53 will go to cards 6, 5, 3 and 1 because\n",
        "\n",
        "- 32 is the first number on card 6,\n",
        "\n",
        "- 16 is the first number on card 5,\n",
        "\n",
        "- 4 is the first number on card 3, and\n",
        "\n",
        "- 1 is the first number on card 1\n"
      ]
    },
    {
      "cell_type": "code",
      "metadata": {
        "id": "rJ7n_sCipcV6"
      },
      "source": [
        "# Fill the 'cards' list by applying the game logic in python.\n",
        "first_six_powers_of_two = [2 ** i for i in range(6)]\n",
        "\n",
        "for num in range(1, 64):\n",
        "  bin_digs = get_binary_digits(num)\n",
        "  for i in range(len(bin_digs)):\n",
        "    power_of_two = 2 ** ((len(bin_digs) - 1) - i)\n",
        "    if bin_digs[i] * power_of_two in first_six_powers_of_two:\n",
        "      cards[(len(bin_digs) - 1) - i].append(num)"
      ],
      "execution_count": null,
      "outputs": []
    },
    {
      "cell_type": "markdown",
      "metadata": {
        "id": "rFjKbHp09BGy"
      },
      "source": [
        "---"
      ]
    },
    {
      "cell_type": "markdown",
      "metadata": {
        "id": "HqKyGvtQ-5Cy"
      },
      "source": [
        "### Gameplay\n",
        "\n",
        "Finally, run the game.\n",
        "\n",
        "1. First, tell the player to think of a number between 1 and 63.\n",
        "\n",
        "2. Ask the player to type `'start'`, once they are ready to play the game.\n",
        "\n",
        "3. Create a variable called `num` and set its initial value equal to zero.\n",
        "\n",
        "4. Using a loop,\n",
        "  \n",
        "  - Show the numbers of the **first** card to the player and ask whether the number they thought of exists in the card. Ask the player to submit their response in the form of `yes` or `no`. If the player reports `yes` then add the first number of card 1 to the value of the `num` variable.\n",
        "  \n",
        "  - Show the numbers of the **second** card to the player and ask whether the number they thought of exists in the card. Ask the player to submit their response in the form of `yes` or `no`. If the player reports `yes` then add the first number of card 2 to the value of the `num` variable.\n",
        "  \n",
        "  - Show the numbers of the **third** card to the player and ask whether the number they thought of exists in the card. Ask the player to submit their response in the form of `yes` or `no`. If the player reports `yes` then add the first number of card 3 to the value of the `num` variable.\n",
        "  \n",
        "  - Show the numbers of the **fourth** card to the player and ask whether the number they thought of exists in the card. Ask the player to submit their response in the form of `yes` or `no`. If the player reports `yes` then add the first number of card 4 to the value of the `num` variable.\n",
        "  \n",
        "  - Show the numbers of the **fifth** card to the player and ask whether the number they thought of exists in the card. Ask the player to submit their response in the form of `yes` or `no`. If the player reports `yes` then add the first number of card 5 to the value of the `num` variable.\n",
        "  \n",
        "  - Show the numbers of the **sixth** card to the player and ask whether the number they thought of exists in the card. Ask the player to submit their response in the form of `yes` or `no`. If the player reports `yes` then add the first number of card 6 to the value of the `num` variable.\n",
        "\n",
        "5. Finally, print the value of the `num` variable which stores the number that the player chose in their head."
      ]
    },
    {
      "cell_type": "code",
      "metadata": {
        "id": "6OXdDGYXsKCL",
        "colab": {
          "base_uri": "https://localhost:8080/",
          "height": 562
        },
        "outputId": "2ca44dda-5b85-406c-9520-4cc55c1dcf94"
      },
      "source": [
        "# Run the game here.\n",
        "\n",
        "# Give a message 'Think of a number between 1 and 63. Type 'start' when you are ready and hit the 'Enter' key.' to the player\n",
        "player_input = input(\"Think of a number between 1 and 63. Type 'start' when you are ready and hit the 'Enter' key.\\n\")\n",
        "\n",
        "# Keep printing the message until the player enters only 'start'.\n",
        "while player_input != 'start':\n",
        "  player_input = input(\"Think of a number between 1 and 63. Type 'start' when you are ready and hit the 'Enter' key.\\n\")\n",
        "\n",
        "# Create the 'num' variable and set its initial value equal to 0.\n",
        "num = 0\n",
        "\n",
        "# Create a list named valid_entries.\n",
        "valid_entries = ['yes', 'no']\n",
        "\n",
        "# Create a loop to display the numbers of each card and to take the input whether the number exists in the card displayed.\n",
        "for i in range(len(cards)):\n",
        "  print(\"\\nDoes your number exist on Card\", i + 1,\"?\\nCard\", i + 1, \"==>\", cards[i])\n",
        "  quest = input(\"Enter either yes or no:\\n\")\n",
        "  while quest not in valid_entries:\n",
        "    print(\"Does your number exist on Card\", i + 1,\"?\\nCard\", i + 1, \"==>\", cards[i])\n",
        "    quest = input(\"Enter either yes or no:\\n\")\n",
        "\n",
        "  # If the number exists in the card displayed, then add the first number to the 'num' variable. Use list indexing, to get the first number.\n",
        "  if quest == 'yes':\n",
        "    num = num + cards[i][0]\n",
        "\n",
        "# Print the value of the 'num' variable.\n",
        "print(\"\\nYou thought of the number\", num)"
      ],
      "execution_count": null,
      "outputs": [
        {
          "output_type": "stream",
          "text": [
            "Think of a number between 1 and 63. Type 'start' when you are ready and hit the 'Enter' key.\n",
            "start\n",
            "\n",
            "Does your number exist on Card 1 ?\n",
            "Card 1 ==> [1, 3, 5, 7, 9, 11, 13, 15, 17, 19, 21, 23, 25, 27, 29, 31, 33, 35, 37, 39, 41, 43, 45, 47, 49, 51, 53, 55, 57, 59, 61, 63]\n",
            "Enter either yes or no:\n",
            "no\n",
            "\n",
            "Does your number exist on Card 2 ?\n",
            "Card 2 ==> [2, 3, 6, 7, 10, 11, 14, 15, 18, 19, 22, 23, 26, 27, 30, 31, 34, 35, 38, 39, 42, 43, 46, 47, 50, 51, 54, 55, 58, 59, 62, 63]\n",
            "Enter either yes or no:\n",
            "yes\n",
            "\n",
            "Does your number exist on Card 3 ?\n",
            "Card 3 ==> [4, 5, 6, 7, 12, 13, 14, 15, 20, 21, 22, 23, 28, 29, 30, 31, 36, 37, 38, 39, 44, 45, 46, 47, 52, 53, 54, 55, 60, 61, 62, 63]\n",
            "Enter either yes or no:\n",
            "yes\n",
            "\n",
            "Does your number exist on Card 4 ?\n",
            "Card 4 ==> [8, 9, 10, 11, 12, 13, 14, 15, 24, 25, 26, 27, 28, 29, 30, 31, 40, 41, 42, 43, 44, 45, 46, 47, 56, 57, 58, 59, 60, 61, 62, 63]\n",
            "Enter either yes or no:\n",
            "no\n",
            "\n",
            "Does your number exist on Card 5 ?\n",
            "Card 5 ==> [16, 17, 18, 19, 20, 21, 22, 23, 24, 25, 26, 27, 28, 29, 30, 31, 48, 49, 50, 51, 52, 53, 54, 55, 56, 57, 58, 59, 60, 61, 62, 63]\n",
            "Enter either yes or no:\n",
            "yes\n",
            "\n",
            "Does your number exist on Card 6 ?\n",
            "Card 6 ==> [32, 33, 34, 35, 36, 37, 38, 39, 40, 41, 42, 43, 44, 45, 46, 47, 48, 49, 50, 51, 52, 53, 54, 55, 56, 57, 58, 59, 60, 61, 62, 63]\n"
          ],
          "name": "stdout"
        }
      ]
    },
    {
      "cell_type": "markdown",
      "metadata": {
        "id": "9NqTMJcbFEHE"
      },
      "source": [
        "---"
      ]
    }
  ]
}